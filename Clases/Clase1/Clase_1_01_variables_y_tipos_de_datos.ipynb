{
  "nbformat": 4,
  "nbformat_minor": 0,
  "metadata": {
    "colab": {
      "name": "Clase_1_01_variables_y_tipos_de_datos.ipynb",
      "provenance": [],
      "collapsed_sections": [],
      "include_colab_link": true
    },
    "kernelspec": {
      "name": "ir",
      "display_name": "R"
    }
  },
  "cells": [
    {
      "cell_type": "markdown",
      "metadata": {
        "id": "view-in-github",
        "colab_type": "text"
      },
      "source": [
        "<a href=\"https://colab.research.google.com/github/majorquev/DBDC_202103_Programacion_en_R_para_ciencia_de_datos/blob/main/Clases/Clase1/Clase_1_01_variables_y_tipos_de_datos.ipynb\" target=\"_parent\"><img src=\"https://colab.research.google.com/assets/colab-badge.svg\" alt=\"Open In Colab\"/></a>"
      ]
    },
    {
      "cell_type": "markdown",
      "metadata": {
        "collapsed": true,
        "id": "Kc2ORhjSySMx"
      },
      "source": [
        "# Parte 1: Introducción a R\n",
        "\n",
        "**Autor:** Miguel Jorquera Viguera<br>\n",
        "**E-mail:** majorquev@gmail.com<br>\n",
        "\n",
        "**Ayudante:** Jorge Arévalo Labarca <br>\n",
        "**E-mail ayudante:** jorge.arevalol@usach.cl\n",
        "\n",
        "## Conociendo R\n",
        "\n",
        "### Conociendo R de nuevo\n",
        " R es un lenguaje funcional orientado principalmente al análisis de datos. Fue desarrollado por Ross Ihaka y Robert Gentleman, cuyas iniciales de sus nombres dieron origen al nombre de este software.\n",
        " \n",
        "Hoy existen varias maneras de ejecutar R, una de ellas es de manera local, para lo cual es posible descargar la última versión (disponible para Windows, Linux y OSX), desde el repositorio CRAN (https://cran.r-project.org/) .\n",
        "Otra manera es mediante la utilización de Google Colab, los que permiten la ejecución de R de manera remota, sin la necesidad de instalar R.\n",
        "\n",
        "En un notebook podemos añadir info.\n",
        "Podemos editar esto...\n",
        "\n",
        "# Puedo añadir otro  título\n",
        "## Subtítulo\n",
        "### Etc..\n",
        "\n",
        "Generar listas\n",
        "\n",
        "   * Hola\n",
        "   * Otra opción\n",
        "   * opcion 2\n",
        "\n",
        "Código en latex $\\sum\\limits_{i=1}^n x_i$ $\\lim_{x \\rightarrow 1}$ $\\int_0^1 f(x) dx$\n"
      ]
    },
    {
      "cell_type": "markdown",
      "metadata": {
        "id": "Z4TXkSy6ySMy"
      },
      "source": [
        "## 1. R... Una gran calculadora\n",
        "\n",
        "En R es posible ejecutar directamente en consola sentencias aritméticas simples, junto con la evaluación de una gran cantidad de funciones disponibles por defecto.\n",
        "\n",
        "    - + , -, /,* ,^ , %%, %*%.\n",
        "    - Logaritmo natural: log() \n",
        "    - Funciones trigonométricas: sin() , cos(), tan(), asin() ,acos(), atan()\n",
        "    - Función exponencial: exp() \n",
        "    - Raiz cuadrada: sqrt().\n",
        "    - Valor absoluto: abs()\n",
        "    - parte entera: floor()\n",
        "    - Truncar: trunc()\n",
        "    - Redondear: round(,)\n",
        "    - Factorial: factorial()\n",
        "    - Número combinatorio: choose(n,k)\n"
      ]
    },
    {
      "cell_type": "code",
      "metadata": {
        "id": "O4E1j5ngySMz",
        "outputId": "9b394e66-e324-4c91-ea81-8790a18d8a65",
        "colab": {
          "base_uri": "https://localhost:8080/",
          "height": 34
        }
      },
      "source": [
        "# En estas celdas pueden ejecutar código R. Las líneas que comiencen con '#' corresponden a comentarios y por ende no son ejecutables\n",
        "# Shift + Enter : ejecuta el código de la celda y pasan a la celda siguiente.\n",
        "sqrt(16)\n",
        "\n"
      ],
      "execution_count": 1,
      "outputs": [
        {
          "output_type": "display_data",
          "data": {
            "text/plain": [
              "[1] 4"
            ],
            "text/latex": "4",
            "text/markdown": "4",
            "text/html": [
              "4"
            ]
          },
          "metadata": {
            "tags": []
          }
        }
      ]
    },
    {
      "cell_type": "markdown",
      "metadata": {
        "id": "fvcIxMW4ySM5"
      },
      "source": [
        "## 2. Variables y tipos de datos\n",
        "\n",
        "En R es posible distintos tipos de datos u objetos en símbolos llamados variables (en R todo es en esencia un objeto).<br>\n",
        "La manera más sencilla de asignar un objeto a una variable es mediante la función \"<-\". Los tipos de datos más utilizados en R corresponden a :\n",
        "    \n",
        "    integer   \n",
        "    double  \n",
        "    logical   \n",
        "    character \n",
        "    factor  \n",
        "    date\n",
        "\n",
        "A diferencia de otros lenguajes de programación, no es necesario declarar explicitamente el tipo de dato que almacenará una variable (R es inteligente!)"
      ]
    },
    {
      "cell_type": "code",
      "metadata": {
        "id": "LUgwYSvMySM5",
        "cellView": "both",
        "outputId": "65cb326f-705a-40b2-8c67-6f2c052b581d",
        "colab": {
          "base_uri": "https://localhost:8080/",
          "height": 51
        }
      },
      "source": [
        "# Podemos definir distintas variables\n",
        "x <- 1\n",
        "y <- 5.6\n",
        "x\n",
        "y\n"
      ],
      "execution_count": 5,
      "outputs": [
        {
          "output_type": "display_data",
          "data": {
            "text/plain": [
              "[1] 1"
            ],
            "text/latex": "1",
            "text/markdown": "1",
            "text/html": [
              "1"
            ]
          },
          "metadata": {
            "tags": []
          }
        },
        {
          "output_type": "display_data",
          "data": {
            "text/plain": [
              "[1] 5.6"
            ],
            "text/latex": "5.6",
            "text/markdown": "5.6",
            "text/html": [
              "5.6"
            ]
          },
          "metadata": {
            "tags": []
          }
        }
      ]
    },
    {
      "cell_type": "code",
      "metadata": {
        "id": "5k6x-eiG7m9Z",
        "outputId": "f7885f4c-836d-4c5b-8600-d1adf654b188",
        "colab": {
          "base_uri": "https://localhost:8080/",
          "height": 34
        }
      },
      "source": [
        "x + y "
      ],
      "execution_count": 6,
      "outputs": [
        {
          "output_type": "display_data",
          "data": {
            "text/plain": [
              "[1] 6.6"
            ],
            "text/latex": "6.6",
            "text/markdown": "6.6",
            "text/html": [
              "6.6"
            ]
          },
          "metadata": {
            "tags": []
          }
        }
      ]
    },
    {
      "cell_type": "code",
      "metadata": {
        "id": "2lqK4mChySM-",
        "outputId": "175bda01-aff0-432b-e10c-1081afc09ef9",
        "colab": {
          "base_uri": "https://localhost:8080/",
          "height": 34
        }
      },
      "source": [
        "# strings(character)\n",
        "l1 <- \"hola mundo\"\n",
        "l1"
      ],
      "execution_count": 8,
      "outputs": [
        {
          "output_type": "display_data",
          "data": {
            "text/plain": [
              "[1] \"hola mundo\""
            ],
            "text/latex": "'hola mundo'",
            "text/markdown": "'hola mundo'",
            "text/html": [
              "'hola mundo'"
            ]
          },
          "metadata": {
            "tags": []
          }
        }
      ]
    },
    {
      "cell_type": "code",
      "metadata": {
        "id": "9oDcGNr57zVC",
        "outputId": "6f9f4b3e-743c-4ed3-fb9f-f4fd67832d8d",
        "colab": {
          "base_uri": "https://localhost:8080/",
          "height": 34
        }
      },
      "source": [
        "nchar(l1) # para calcular el largo de un string"
      ],
      "execution_count": 9,
      "outputs": [
        {
          "output_type": "display_data",
          "data": {
            "text/plain": [
              "[1] 10"
            ],
            "text/latex": "10",
            "text/markdown": "10",
            "text/html": [
              "10"
            ]
          },
          "metadata": {
            "tags": []
          }
        }
      ]
    },
    {
      "cell_type": "code",
      "metadata": {
        "id": "E6wzFxQu772Q",
        "outputId": "d891642b-3b10-4fc4-a128-db53db6675ec",
        "colab": {
          "base_uri": "https://localhost:8080/",
          "height": 34
        }
      },
      "source": [
        "substring(l1, 2,6) # Not: R cuenta los arreglos y posiciones desde el valor 1 (a diferencia de python que cuenta desde  0)"
      ],
      "execution_count": 13,
      "outputs": [
        {
          "output_type": "display_data",
          "data": {
            "text/plain": [
              "[1] \"ola m\""
            ],
            "text/latex": "'ola m'",
            "text/markdown": "'ola m'",
            "text/html": [
              "'ola m'"
            ]
          },
          "metadata": {
            "tags": []
          }
        }
      ]
    },
    {
      "cell_type": "code",
      "metadata": {
        "id": "BPz0Uxm98V-5"
      },
      "source": [
        "?substring"
      ],
      "execution_count": 10,
      "outputs": []
    },
    {
      "cell_type": "code",
      "metadata": {
        "id": "TvnfvFZFySNC"
      },
      "source": [
        "# valores lógicos (logical)\n",
        "verdad <- TRUE\n",
        "falso <- FALSE"
      ],
      "execution_count": 15,
      "outputs": []
    },
    {
      "cell_type": "code",
      "metadata": {
        "id": "n-cknpq2N1UO",
        "outputId": "97269453-ace8-4e55-979a-a1a0ee5e730b",
        "colab": {
          "base_uri": "https://localhost:8080/",
          "height": 51
        }
      },
      "source": [
        "verdad & falso # conjunción (y)\n",
        "verdad | falso # disyunción (|)"
      ],
      "execution_count": 16,
      "outputs": [
        {
          "output_type": "display_data",
          "data": {
            "text/plain": [
              "[1] FALSE"
            ],
            "text/latex": "FALSE",
            "text/markdown": "FALSE",
            "text/html": [
              "FALSE"
            ]
          },
          "metadata": {
            "tags": []
          }
        },
        {
          "output_type": "display_data",
          "data": {
            "text/plain": [
              "[1] TRUE"
            ],
            "text/latex": "TRUE",
            "text/markdown": "TRUE",
            "text/html": [
              "TRUE"
            ]
          },
          "metadata": {
            "tags": []
          }
        }
      ]
    },
    {
      "cell_type": "code",
      "metadata": {
        "id": "5TaXp2j8ySNK",
        "outputId": "c02e76f7-d3a9-4b21-bfbc-3bf9371c6993",
        "colab": {
          "base_uri": "https://localhost:8080/",
          "height": 51
        }
      },
      "source": [
        "# Podemos comparar la igualdad lógica entre dos valores mendiante \"==\"\n",
        "2 == 1+1\n",
        "4 == 3"
      ],
      "execution_count": 18,
      "outputs": [
        {
          "output_type": "display_data",
          "data": {
            "text/plain": [
              "[1] TRUE"
            ],
            "text/latex": "TRUE",
            "text/markdown": "TRUE",
            "text/html": [
              "TRUE"
            ]
          },
          "metadata": {
            "tags": []
          }
        },
        {
          "output_type": "display_data",
          "data": {
            "text/plain": [
              "[1] FALSE"
            ],
            "text/latex": "FALSE",
            "text/markdown": "FALSE",
            "text/html": [
              "FALSE"
            ]
          },
          "metadata": {
            "tags": []
          }
        }
      ]
    },
    {
      "cell_type": "code",
      "metadata": {
        "id": "3mq1eAigySNN",
        "outputId": "7d391dd4-3f61-49cd-e2f3-31b039d5bc12",
        "colab": {
          "base_uri": "https://localhost:8080/",
          "height": 51
        }
      },
      "source": [
        "# Podemos evaluar la no igualdad con \"!=\" (es distinto de)\n",
        "3 != 4\n",
        "6 != 6\n",
        "\n",
        "# Podemos asignar con la flechita en los dos sentidos\n"
      ],
      "execution_count": 20,
      "outputs": [
        {
          "output_type": "display_data",
          "data": {
            "text/plain": [
              "[1] TRUE"
            ],
            "text/latex": "TRUE",
            "text/markdown": "TRUE",
            "text/html": [
              "TRUE"
            ]
          },
          "metadata": {
            "tags": []
          }
        },
        {
          "output_type": "display_data",
          "data": {
            "text/plain": [
              "[1] FALSE"
            ],
            "text/latex": "FALSE",
            "text/markdown": "FALSE",
            "text/html": [
              "FALSE"
            ]
          },
          "metadata": {
            "tags": []
          }
        }
      ]
    },
    {
      "cell_type": "code",
      "metadata": {
        "id": "crOp1-6HySNP",
        "outputId": "86c1c2b8-d317-4591-c881-4a8013fb729b",
        "colab": {
          "base_uri": "https://localhost:8080/",
          "height": 51
        }
      },
      "source": [
        "# podemos realizar comparaciones aritméticas\n",
        "6 >= 5\n",
        "6 < 6"
      ],
      "execution_count": 22,
      "outputs": [
        {
          "output_type": "display_data",
          "data": {
            "text/plain": [
              "[1] TRUE"
            ],
            "text/latex": "TRUE",
            "text/markdown": "TRUE",
            "text/html": [
              "TRUE"
            ]
          },
          "metadata": {
            "tags": []
          }
        },
        {
          "output_type": "display_data",
          "data": {
            "text/plain": [
              "[1] FALSE"
            ],
            "text/latex": "FALSE",
            "text/markdown": "FALSE",
            "text/html": [
              "FALSE"
            ]
          },
          "metadata": {
            "tags": []
          }
        }
      ]
    },
    {
      "cell_type": "code",
      "metadata": {
        "id": "HZ9EQNrQySNS",
        "outputId": "2f19c678-3f85-4be2-d274-344ab9515da5",
        "colab": {
          "base_uri": "https://localhost:8080/",
          "height": 85
        }
      },
      "source": [
        "# NOTA:valor infinito\n",
        "Inf\n",
        "\n",
        "Inf + 10000000000000000\n",
        "Inf + Inf\n",
        "Inf * 0\n",
        "\n"
      ],
      "execution_count": 26,
      "outputs": [
        {
          "output_type": "display_data",
          "data": {
            "text/plain": [
              "[1] Inf"
            ],
            "text/latex": "Inf",
            "text/markdown": "Inf",
            "text/html": [
              "Inf"
            ]
          },
          "metadata": {
            "tags": []
          }
        },
        {
          "output_type": "display_data",
          "data": {
            "text/plain": [
              "[1] Inf"
            ],
            "text/latex": "Inf",
            "text/markdown": "Inf",
            "text/html": [
              "Inf"
            ]
          },
          "metadata": {
            "tags": []
          }
        },
        {
          "output_type": "display_data",
          "data": {
            "text/plain": [
              "[1] Inf"
            ],
            "text/latex": "Inf",
            "text/markdown": "Inf",
            "text/html": [
              "Inf"
            ]
          },
          "metadata": {
            "tags": []
          }
        },
        {
          "output_type": "display_data",
          "data": {
            "text/plain": [
              "[1] NaN"
            ],
            "text/latex": "NaN",
            "text/markdown": "NaN",
            "text/html": [
              "NaN"
            ]
          },
          "metadata": {
            "tags": []
          }
        }
      ]
    },
    {
      "cell_type": "code",
      "metadata": {
        "id": "H8JAnUETySNc"
      },
      "source": [
        "# conector lógicos ( & es el \"y\", | es el \"o\" )\n"
      ],
      "execution_count": null,
      "outputs": []
    },
    {
      "cell_type": "code",
      "metadata": {
        "id": "ujQiJGcbySNe"
      },
      "source": [
        "# date\n",
        "no_fecha <- '2021-04-08'\n",
        "\n"
      ],
      "execution_count": 27,
      "outputs": []
    },
    {
      "cell_type": "code",
      "metadata": {
        "id": "-AjMAkiV_Xe1",
        "outputId": "a7e3f005-e31a-4569-e455-725341c0103e",
        "colab": {
          "base_uri": "https://localhost:8080/",
          "height": 34
        }
      },
      "source": [
        "no_fecha"
      ],
      "execution_count": 28,
      "outputs": [
        {
          "output_type": "display_data",
          "data": {
            "text/plain": [
              "[1] \"2021-04-08\""
            ],
            "text/latex": "'2021-04-08'",
            "text/markdown": "'2021-04-08'",
            "text/html": [
              "'2021-04-08'"
            ]
          },
          "metadata": {
            "tags": []
          }
        }
      ]
    },
    {
      "cell_type": "code",
      "metadata": {
        "id": "Xqsvp1vC_aem",
        "outputId": "eeb1197d-3806-4918-ab5f-b26a56dbfc5f",
        "colab": {
          "base_uri": "https://localhost:8080/",
          "height": 102
        }
      },
      "source": [
        "# Clase y tipos de datos\n",
        "x\n",
        "class(x)\n",
        "\n",
        "y\n",
        "class(y)\n",
        "\n",
        "class(no_fecha)"
      ],
      "execution_count": 32,
      "outputs": [
        {
          "output_type": "display_data",
          "data": {
            "text/plain": [
              "[1] 1"
            ],
            "text/latex": "1",
            "text/markdown": "1",
            "text/html": [
              "1"
            ]
          },
          "metadata": {
            "tags": []
          }
        },
        {
          "output_type": "display_data",
          "data": {
            "text/plain": [
              "[1] \"numeric\""
            ],
            "text/latex": "'numeric'",
            "text/markdown": "'numeric'",
            "text/html": [
              "'numeric'"
            ]
          },
          "metadata": {
            "tags": []
          }
        },
        {
          "output_type": "display_data",
          "data": {
            "text/plain": [
              "[1] 5.6"
            ],
            "text/latex": "5.6",
            "text/markdown": "5.6",
            "text/html": [
              "5.6"
            ]
          },
          "metadata": {
            "tags": []
          }
        },
        {
          "output_type": "display_data",
          "data": {
            "text/plain": [
              "[1] \"numeric\""
            ],
            "text/latex": "'numeric'",
            "text/markdown": "'numeric'",
            "text/html": [
              "'numeric'"
            ]
          },
          "metadata": {
            "tags": []
          }
        },
        {
          "output_type": "display_data",
          "data": {
            "text/plain": [
              "[1] \"character\""
            ],
            "text/latex": "'character'",
            "text/markdown": "'character'",
            "text/html": [
              "'character'"
            ]
          },
          "metadata": {
            "tags": []
          }
        }
      ]
    },
    {
      "cell_type": "code",
      "metadata": {
        "id": "tEtlsXVp_W4x"
      },
      "source": [
        "\n",
        "# NOTA: podemos preguntarnos por la clase del dato almacenado en una variable\n",
        "\n",
        "\n",
        "# coercionamos a clase date, con la función as.Date()\n",
        "\n",
        "fecha <- as.Date(no_fecha)\n"
      ],
      "execution_count": 34,
      "outputs": []
    },
    {
      "cell_type": "code",
      "metadata": {
        "id": "LG3NAkHgAeBZ",
        "outputId": "227483e7-ecbd-437d-dc25-afa773d9bce1",
        "colab": {
          "base_uri": "https://localhost:8080/",
          "height": 51
        }
      },
      "source": [
        "fecha\n",
        "class(fecha)"
      ],
      "execution_count": 35,
      "outputs": [
        {
          "output_type": "display_data",
          "data": {
            "text/plain": [
              "[1] \"2021-04-08\""
            ],
            "text/latex": "2021-04-08",
            "text/markdown": "2021-04-08",
            "text/html": [
              "<time datetime=\"2021-04-08\">2021-04-08</time>"
            ]
          },
          "metadata": {
            "tags": []
          }
        },
        {
          "output_type": "display_data",
          "data": {
            "text/plain": [
              "[1] \"Date\""
            ],
            "text/latex": "'Date'",
            "text/markdown": "'Date'",
            "text/html": [
              "'Date'"
            ]
          },
          "metadata": {
            "tags": []
          }
        }
      ]
    },
    {
      "cell_type": "code",
      "metadata": {
        "id": "Zc8Xzb3uAlOb",
        "outputId": "a918cb79-44e7-4483-ca86-b17a3f2635d6",
        "colab": {
          "base_uri": "https://localhost:8080/",
          "height": 34
        }
      },
      "source": [
        "fecha + 30 "
      ],
      "execution_count": 37,
      "outputs": [
        {
          "output_type": "display_data",
          "data": {
            "text/plain": [
              "[1] \"2021-05-08\""
            ],
            "text/latex": "2021-05-08",
            "text/markdown": "2021-05-08",
            "text/html": [
              "<time datetime=\"2021-05-08\">2021-05-08</time>"
            ]
          },
          "metadata": {
            "tags": []
          }
        }
      ]
    },
    {
      "cell_type": "code",
      "metadata": {
        "id": "IuoyidKOySNn"
      },
      "source": [
        "# Observación: Inmutabilidad de variables en R.\n",
        "v1 <- 10\n",
        "v2 <- v1 +1"
      ],
      "execution_count": 38,
      "outputs": []
    },
    {
      "cell_type": "code",
      "metadata": {
        "id": "MYf6gceCBEcf",
        "outputId": "f750ef67-7478-4e45-e4aa-42fab800030b",
        "colab": {
          "base_uri": "https://localhost:8080/",
          "height": 51
        }
      },
      "source": [
        "v1\n",
        "v2"
      ],
      "execution_count": 39,
      "outputs": [
        {
          "output_type": "display_data",
          "data": {
            "text/plain": [
              "[1] 10"
            ],
            "text/latex": "10",
            "text/markdown": "10",
            "text/html": [
              "10"
            ]
          },
          "metadata": {
            "tags": []
          }
        },
        {
          "output_type": "display_data",
          "data": {
            "text/plain": [
              "[1] 11"
            ],
            "text/latex": "11",
            "text/markdown": "11",
            "text/html": [
              "11"
            ]
          },
          "metadata": {
            "tags": []
          }
        }
      ]
    },
    {
      "cell_type": "code",
      "metadata": {
        "id": "LEuLL0XKBJlk",
        "outputId": "ca2e4af5-52bd-4efd-c4d9-ed5b69d2115f",
        "colab": {
          "base_uri": "https://localhost:8080/",
          "height": 34
        }
      },
      "source": [
        "v1 <- 20\n",
        "v1"
      ],
      "execution_count": 41,
      "outputs": [
        {
          "output_type": "display_data",
          "data": {
            "text/plain": [
              "[1] 20"
            ],
            "text/latex": "20",
            "text/markdown": "20",
            "text/html": [
              "20"
            ]
          },
          "metadata": {
            "tags": []
          }
        }
      ]
    },
    {
      "cell_type": "code",
      "metadata": {
        "id": "9Fao-xGlySNr",
        "outputId": "186dba3b-883c-47f0-a7ee-801c4c97c7c5",
        "colab": {
          "base_uri": "https://localhost:8080/",
          "height": 34
        }
      },
      "source": [
        "# ¿Qué valor tiene v2?\n",
        "v2 # en R las asignaciones por defecto se realizan por valor y no por referencia. \n",
        "\n",
        "\n",
        "\n"
      ],
      "execution_count": 42,
      "outputs": [
        {
          "output_type": "display_data",
          "data": {
            "text/plain": [
              "[1] 11"
            ],
            "text/latex": "11",
            "text/markdown": "11",
            "text/html": [
              "11"
            ]
          },
          "metadata": {
            "tags": []
          }
        }
      ]
    },
    {
      "cell_type": "code",
      "metadata": {
        "id": "JpWFBm1wCCbJ",
        "outputId": "6ec5637c-8b02-421f-b789-4a484a587dac",
        "colab": {
          "base_uri": "https://localhost:8080/",
          "height": 34
        }
      },
      "source": [
        "v2 <- v1 +1\n",
        "v2"
      ],
      "execution_count": 43,
      "outputs": [
        {
          "output_type": "display_data",
          "data": {
            "text/plain": [
              "[1] 21"
            ],
            "text/latex": "21",
            "text/markdown": "21",
            "text/html": [
              "21"
            ]
          },
          "metadata": {
            "tags": []
          }
        }
      ]
    },
    {
      "cell_type": "markdown",
      "metadata": {
        "id": "tDPGo6PyySNu"
      },
      "source": [
        "### Observación:\n",
        "\n",
        "   1. Cada vez que se define una variable en R, esta queda almacenada en memoria. Una manera de limpiar las variables que se han definido en memoria, es a través de la función rm().\n",
        "   2. Documentación de R. Cada vez que se quiera acceder a la documentación de una librería o función en particular, se puede tipear \"?\" o \"help()\".\n",
        "   3. Cada vez que se define una nueva variable con el mismo nombre, esta simplemente actualiza su valor.\n",
        "    "
      ]
    },
    {
      "cell_type": "code",
      "metadata": {
        "id": "EHevI0LlySNv",
        "outputId": "cfdb0418-9a0e-427d-8167-0327a395a6ad",
        "colab": {
          "base_uri": "https://localhost:8080/",
          "height": 34
        }
      },
      "source": [
        "ls() # retorna un vector con los nombres de todas las variables definidas en el ambiente\n"
      ],
      "execution_count": 44,
      "outputs": [
        {
          "output_type": "display_data",
          "data": {
            "text/plain": [
              "[1] \"falso\"    \"fecha\"    \"l1\"       \"no_fecha\" \"v1\"       \"v2\"       \"verdad\"  \n",
              "[8] \"x\"        \"y\"       "
            ],
            "text/latex": "\\begin{enumerate*}\n\\item 'falso'\n\\item 'fecha'\n\\item 'l1'\n\\item 'no\\_fecha'\n\\item 'v1'\n\\item 'v2'\n\\item 'verdad'\n\\item 'x'\n\\item 'y'\n\\end{enumerate*}\n",
            "text/markdown": "1. 'falso'\n2. 'fecha'\n3. 'l1'\n4. 'no_fecha'\n5. 'v1'\n6. 'v2'\n7. 'verdad'\n8. 'x'\n9. 'y'\n\n\n",
            "text/html": [
              "<style>\n",
              ".list-inline {list-style: none; margin:0; padding: 0}\n",
              ".list-inline>li {display: inline-block}\n",
              ".list-inline>li:not(:last-child)::after {content: \"\\00b7\"; padding: 0 .5ex}\n",
              "</style>\n",
              "<ol class=list-inline><li>'falso'</li><li>'fecha'</li><li>'l1'</li><li>'no_fecha'</li><li>'v1'</li><li>'v2'</li><li>'verdad'</li><li>'x'</li><li>'y'</li></ol>\n"
            ]
          },
          "metadata": {
            "tags": []
          }
        }
      ]
    },
    {
      "cell_type": "code",
      "metadata": {
        "id": "UJq0dPSIySNx"
      },
      "source": [
        "# remueva algunas de las variables generadas anteriormente\n",
        "rm(l1)"
      ],
      "execution_count": 47,
      "outputs": []
    },
    {
      "cell_type": "code",
      "metadata": {
        "id": "WQPIUHgACoA_",
        "outputId": "578b929f-3e0c-4bc5-f0d4-12da8eecb290",
        "colab": {
          "base_uri": "https://localhost:8080/",
          "height": 112
        }
      },
      "source": [
        "ls()\n",
        "l1"
      ],
      "execution_count": 49,
      "outputs": [
        {
          "output_type": "display_data",
          "data": {
            "text/plain": [
              "[1] \"falso\"    \"fecha\"    \"no_fecha\" \"v1\"       \"v2\"       \"verdad\"   \"x\"       \n",
              "[8] \"y\"       "
            ],
            "text/latex": "\\begin{enumerate*}\n\\item 'falso'\n\\item 'fecha'\n\\item 'no\\_fecha'\n\\item 'v1'\n\\item 'v2'\n\\item 'verdad'\n\\item 'x'\n\\item 'y'\n\\end{enumerate*}\n",
            "text/markdown": "1. 'falso'\n2. 'fecha'\n3. 'no_fecha'\n4. 'v1'\n5. 'v2'\n6. 'verdad'\n7. 'x'\n8. 'y'\n\n\n",
            "text/html": [
              "<style>\n",
              ".list-inline {list-style: none; margin:0; padding: 0}\n",
              ".list-inline>li {display: inline-block}\n",
              ".list-inline>li:not(:last-child)::after {content: \"\\00b7\"; padding: 0 .5ex}\n",
              "</style>\n",
              "<ol class=list-inline><li>'falso'</li><li>'fecha'</li><li>'no_fecha'</li><li>'v1'</li><li>'v2'</li><li>'verdad'</li><li>'x'</li><li>'y'</li></ol>\n"
            ]
          },
          "metadata": {
            "tags": []
          }
        },
        {
          "output_type": "error",
          "ename": "ERROR",
          "evalue": "ignored",
          "traceback": [
            "Error in eval(expr, envir, enclos): object 'l1' not found\nTraceback:\n"
          ]
        }
      ]
    },
    {
      "cell_type": "code",
      "metadata": {
        "id": "JXXdVSZwCuM_"
      },
      "source": [
        "rm(list = c('fecha', 'x', 'y'))"
      ],
      "execution_count": 51,
      "outputs": []
    },
    {
      "cell_type": "code",
      "metadata": {
        "id": "k5oO5TabDAOY"
      },
      "source": [
        "ls <- 1+1"
      ],
      "execution_count": 53,
      "outputs": []
    },
    {
      "cell_type": "code",
      "metadata": {
        "id": "vRcyAxkxDKqK",
        "outputId": "d40e55bd-b133-42a5-c448-bdb5c4f97b2c",
        "colab": {
          "base_uri": "https://localhost:8080/",
          "height": 34
        }
      },
      "source": [
        "ls"
      ],
      "execution_count": 54,
      "outputs": [
        {
          "output_type": "display_data",
          "data": {
            "text/plain": [
              "[1] 2"
            ],
            "text/latex": "2",
            "text/markdown": "2",
            "text/html": [
              "2"
            ]
          },
          "metadata": {
            "tags": []
          }
        }
      ]
    },
    {
      "cell_type": "code",
      "metadata": {
        "id": "uKDGV403DMi6",
        "outputId": "e52cf4fe-5093-491b-9b7c-1dd05fe1961f",
        "colab": {
          "base_uri": "https://localhost:8080/",
          "height": 34
        }
      },
      "source": [
        ""
      ],
      "execution_count": 55,
      "outputs": [
        {
          "output_type": "display_data",
          "data": {
            "text/plain": [
              "[1] \"falso\"    \"ls\"       \"no_fecha\" \"v1\"       \"v2\"       \"verdad\"  "
            ],
            "text/latex": "\\begin{enumerate*}\n\\item 'falso'\n\\item 'ls'\n\\item 'no\\_fecha'\n\\item 'v1'\n\\item 'v2'\n\\item 'verdad'\n\\end{enumerate*}\n",
            "text/markdown": "1. 'falso'\n2. 'ls'\n3. 'no_fecha'\n4. 'v1'\n5. 'v2'\n6. 'verdad'\n\n\n",
            "text/html": [
              "<style>\n",
              ".list-inline {list-style: none; margin:0; padding: 0}\n",
              ".list-inline>li {display: inline-block}\n",
              ".list-inline>li:not(:last-child)::after {content: \"\\00b7\"; padding: 0 .5ex}\n",
              "</style>\n",
              "<ol class=list-inline><li>'falso'</li><li>'ls'</li><li>'no_fecha'</li><li>'v1'</li><li>'v2'</li><li>'verdad'</li></ol>\n"
            ]
          },
          "metadata": {
            "tags": []
          }
        }
      ]
    },
    {
      "cell_type": "markdown",
      "metadata": {
        "id": "qVG7GGScySN5"
      },
      "source": [
        "### 2.1. Missing values\n",
        "\n",
        "En R, existen tipos de datos especiales para caracterizar la ausencia o la no definición de una variable. Los valores especiales que maneja R son NA, NaN, Inf, -Inf. "
      ]
    },
    {
      "cell_type": "code",
      "metadata": {
        "id": "o60_IFkbySN5",
        "outputId": "63cc19d4-589b-485f-96e6-edbce708d7c2",
        "colab": {
          "base_uri": "https://localhost:8080/",
          "height": 51
        }
      },
      "source": [
        "# 2.1. Missing Values ------------\n",
        "# Acá se explica la diferencia entre ellos y cómo reconocerlos.\n",
        "NA  # Not available, es el equivalente al NULL de SQL\n",
        "NaN # Not a number\n",
        "Inf # Infinito positivo\n",
        "-Inf # Infinito negativo"
      ],
      "execution_count": 56,
      "outputs": [
        {
          "output_type": "display_data",
          "data": {
            "text/plain": [
              "[1] NA"
            ],
            "text/latex": "<NA>",
            "text/markdown": "&lt;NA&gt;",
            "text/html": [
              "&lt;NA&gt;"
            ]
          },
          "metadata": {
            "tags": []
          }
        },
        {
          "output_type": "display_data",
          "data": {
            "text/plain": [
              "[1] NaN"
            ],
            "text/latex": "NaN",
            "text/markdown": "NaN",
            "text/html": [
              "NaN"
            ]
          },
          "metadata": {
            "tags": []
          }
        }
      ]
    },
    {
      "cell_type": "code",
      "metadata": {
        "id": "OxyzZkL9D9dM",
        "outputId": "5f8d6734-a777-48aa-8960-e87e71b2e779",
        "colab": {
          "base_uri": "https://localhost:8080/",
          "height": 34
        }
      },
      "source": [
        "edad <- NA\n",
        "\n",
        "edad == NA"
      ],
      "execution_count": 58,
      "outputs": [
        {
          "output_type": "display_data",
          "data": {
            "text/plain": [
              "[1] NA"
            ],
            "text/latex": "<NA>",
            "text/markdown": "&lt;NA&gt;",
            "text/html": [
              "&lt;NA&gt;"
            ]
          },
          "metadata": {
            "tags": []
          }
        }
      ]
    },
    {
      "cell_type": "code",
      "metadata": {
        "id": "JxXPRFZcEGIB",
        "outputId": "58543e0e-c8f9-4bbb-b06c-c616b4d3fed1",
        "colab": {
          "base_uri": "https://localhost:8080/",
          "height": 34
        }
      },
      "source": [
        "3 == 3"
      ],
      "execution_count": 59,
      "outputs": [
        {
          "output_type": "display_data",
          "data": {
            "text/plain": [
              "[1] TRUE"
            ],
            "text/latex": "TRUE",
            "text/markdown": "TRUE",
            "text/html": [
              "TRUE"
            ]
          },
          "metadata": {
            "tags": []
          }
        }
      ]
    },
    {
      "cell_type": "code",
      "metadata": {
        "id": "B9itbvDAEIpU",
        "outputId": "d47ceaea-d71b-4e6f-dac9-f810234fd428",
        "colab": {
          "base_uri": "https://localhost:8080/",
          "height": 34
        }
      },
      "source": [
        "NA == NA"
      ],
      "execution_count": 61,
      "outputs": [
        {
          "output_type": "display_data",
          "data": {
            "text/plain": [
              "[1] NA"
            ],
            "text/latex": "<NA>",
            "text/markdown": "&lt;NA&gt;",
            "text/html": [
              "&lt;NA&gt;"
            ]
          },
          "metadata": {
            "tags": []
          }
        }
      ]
    },
    {
      "cell_type": "code",
      "metadata": {
        "id": "_rbLuRSOZ7pM",
        "outputId": "3694c423-96d3-4e2f-f129-06732d3164d5",
        "colab": {
          "base_uri": "https://localhost:8080/",
          "height": 68
        }
      },
      "source": [
        "# para identificar un valor NA o NaN podemos utilizar la función is.na\n",
        "is.na(NA)\n",
        "is.na(NaN)\n",
        "is.na(5)\n"
      ],
      "execution_count": 64,
      "outputs": [
        {
          "output_type": "display_data",
          "data": {
            "text/plain": [
              "[1] TRUE"
            ],
            "text/latex": "TRUE",
            "text/markdown": "TRUE",
            "text/html": [
              "TRUE"
            ]
          },
          "metadata": {
            "tags": []
          }
        },
        {
          "output_type": "display_data",
          "data": {
            "text/plain": [
              "[1] TRUE"
            ],
            "text/latex": "TRUE",
            "text/markdown": "TRUE",
            "text/html": [
              "TRUE"
            ]
          },
          "metadata": {
            "tags": []
          }
        },
        {
          "output_type": "display_data",
          "data": {
            "text/plain": [
              "[1] FALSE"
            ],
            "text/latex": "FALSE",
            "text/markdown": "FALSE",
            "text/html": [
              "FALSE"
            ]
          },
          "metadata": {
            "tags": []
          }
        }
      ]
    },
    {
      "cell_type": "code",
      "metadata": {
        "id": "sqdQO-cDE03q",
        "outputId": "7907fbf5-6dbd-4cbc-f63f-67202073c52a",
        "colab": {
          "base_uri": "https://localhost:8080/",
          "height": 34
        }
      },
      "source": [
        "is.na(Inf)"
      ],
      "execution_count": 65,
      "outputs": [
        {
          "output_type": "display_data",
          "data": {
            "text/plain": [
              "[1] FALSE"
            ],
            "text/latex": "FALSE",
            "text/markdown": "FALSE",
            "text/html": [
              "FALSE"
            ]
          },
          "metadata": {
            "tags": []
          }
        }
      ]
    }
  ]
}